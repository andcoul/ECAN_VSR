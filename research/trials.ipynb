{
 "cells": [
  {
   "cell_type": "code",
   "execution_count": null,
   "outputs": [],
   "source": [
    "import os\n",
    "\n",
    "os.chdir(\"../\")"
   ],
   "metadata": {
    "collapsed": false
   },
   "id": "fae4dfaa40f3f55e"
  },
  {
   "cell_type": "code",
   "execution_count": null,
   "outputs": [],
   "source": [
    "%pwd"
   ],
   "metadata": {
    "collapsed": false
   },
   "id": "118dc70fb9909b3a"
  },
  {
   "cell_type": "code",
   "execution_count": null,
   "outputs": [],
   "source": [
    "import os\n",
    "from ecan.constants import *\n",
    "from ecan.entity.config_entity import DataIngestionConfig, TrainingConfig\n",
    "from ecan.utils.common import read_yaml, create_directories\n",
    "\n",
    "\n",
    "class ConfigurationManager:\n",
    "    def __init__(\n",
    "            self,\n",
    "            config_filepath=CONFIG_FILE_PATH,\n",
    "            params_filepath=PARAMS_FILE_PATH):\n",
    "\n",
    "        self.config = read_yaml(config_filepath)\n",
    "        self.params = read_yaml(params_filepath)\n",
    "\n",
    "        create_directories([self.config.artifacts_root])\n",
    "\n",
    "    def get_data_ingestion_config(self) -> DataIngestionConfig:\n",
    "        config = self.config.data_ingestion\n",
    "\n",
    "        create_directories([config.root_dir])\n",
    "\n",
    "        data_ingestion_config = DataIngestionConfig(\n",
    "            root_dir=Path(config.root_dir),\n",
    "            source_URL=Path(config.source_URL),\n",
    "            local_data_file=Path(config.local_data_file),\n",
    "            unzip_dir=Path(config.unzip_dir)\n",
    "        )\n",
    "\n",
    "        return data_ingestion_config\n",
    "\n",
    "    def get_training_config(self) -> TrainingConfig:\n",
    "        config = self.config.training\n",
    "        training_data = os.path.join(self.config.prepare_base_model.root_dir, 'dataset')\n",
    "        create_directories([config.root_dir])\n",
    "\n",
    "        data_ingestion_config = TrainingConfig(\n",
    "            root_dir=Path(config.root_dir),\n",
    "            trained_model_path=Path(config.trained_model_path),\n",
    "            updated_base_model_path=Path(self.config.prepare_base_model.updated_base_model_path),\n",
    "            training_data=Path(training_data),\n",
    "            params_epochs=self.params.N_EPOCHS,\n",
    "            params_batch_size=self.params.BATCH_SIZE,\n",
    "            params_scale_factor=self.params.SCALE_FACTOR,\n",
    "            params_nFrame=self.params.N_FRAMES\n",
    "        )\n",
    "\n",
    "        return data_ingestion_config\n"
   ],
   "metadata": {
    "collapsed": false
   },
   "id": "92af1186124ac22d"
  },
  {
   "cell_type": "code",
   "execution_count": null,
   "outputs": [],
   "source": [
    "from ecan.config.configuration import ConfigurationManager\n",
    "from ecan.components.model_training import DataTraining\n",
    "from ecan import logger\n",
    "\n",
    "STAGE_NAME = \"Data Training Stage\"\n",
    "\n",
    "\n",
    "class DataTrainingPipeline:\n",
    "    def __init__(self):\n",
    "        pass\n",
    "\n",
    "    def main(self):\n",
    "        config = ConfigurationManager()\n",
    "        data_training_config = config.get_training_config()\n",
    "        data_training = DataTraining(config=data_training_config)\n",
    "        data_training.main()\n",
    "\n",
    "\n",
    "if __name__ == '__main__':\n",
    "    try:\n",
    "        logger.info(f\"*******************\")\n",
    "        logger.info(f\">>>>>> stage {STAGE_NAME} started <<<<<<\")\n",
    "        obj = DataTrainingPipeline()\n",
    "        obj.main()\n",
    "        logger.info(f\">>>>>> stage {STAGE_NAME} completed <<<<<<\\n\\nx==========x\")\n",
    "    except Exception as e:\n",
    "        logger.exception(e)\n",
    "        raise e\n"
   ],
   "metadata": {
    "collapsed": false
   },
   "id": "793c35de8124f45"
  }
 ],
 "metadata": {
  "kernelspec": {
   "display_name": "Python 3",
   "language": "python",
   "name": "python3"
  },
  "language_info": {
   "codemirror_mode": {
    "name": "ipython",
    "version": 2
   },
   "file_extension": ".py",
   "mimetype": "text/x-python",
   "name": "python",
   "nbconvert_exporter": "python",
   "pygments_lexer": "ipython2",
   "version": "2.7.6"
  }
 },
 "nbformat": 4,
 "nbformat_minor": 5
}
